{
 "cells": [
  {
   "cell_type": "code",
   "execution_count": 26,
   "id": "5567bf09-d93f-44aa-88e0-f455adfe1b76",
   "metadata": {},
   "outputs": [],
   "source": [
    "import pandas as pd\n",
    "import matplotlib.pyplot as plt\n",
    "import seaborn as sns\n"
   ]
  },
  {
   "cell_type": "code",
   "execution_count": 27,
   "id": "c562dd7c-07c6-408b-ba3b-0fb057191a57",
   "metadata": {
    "scrolled": true
   },
   "outputs": [
    {
     "name": "stdout",
     "output_type": "stream",
     "text": [
      "   Tåguppdrag   Datum_PAU Tågslag Tågsort UppehållstypAvgång  \\\n",
      "0      1710.0  2019-03-23     RST  PENDEL           Uppehåll   \n",
      "1      1710.0  2019-03-27     RST  PENDEL           Uppehåll   \n",
      "2      1710.0  2019-03-16     RST  PENDEL           Uppehåll   \n",
      "3       546.0  2019-03-31     RST   SNABB           Uppehåll   \n",
      "4      7445.0  2019-03-04     RST  REGION            Passage   \n",
      "\n",
      "  UppehållstypAnkomst  AktivitetskodAvgång AktivitetskodBeskrivningAvgång  \\\n",
      "0               Sista                   11  Av- och påstigande av resande   \n",
      "1               Sista                   11  Av- och påstigande av resande   \n",
      "2               Sista                   11  Av- och påstigande av resande   \n",
      "3             Passage                   11  Av- och påstigande av resande   \n",
      "4             Passage                    0                              -   \n",
      "\n",
      "   AktivitetskodAnkomst AktivitetskodBeskrivningAnkomst  ...  \\\n",
      "0                    10           Avstigande av resande  ...   \n",
      "1                    10           Avstigande av resande  ...   \n",
      "2                    10           Avstigande av resande  ...   \n",
      "3                     0                               -  ...   \n",
      "4                     0                               -  ...   \n",
      "\n",
      "   PlanAnkTid_vid_AvgPlats   UtfAnkTid_vid_AvgPlats PlanUppehållstidAvgång  \\\n",
      "0  2019-03-23 10:33:00.000  2019-03-23 10:32:00.000                    1.0   \n",
      "1  2019-03-27 10:33:00.000  2019-03-27 10:32:00.000                    1.0   \n",
      "2  2019-03-16 10:33:00.000  2019-03-16 10:32:00.000                    1.0   \n",
      "3  2019-03-31 16:59:00.000  2019-03-31 16:55:00.000                   12.0   \n",
      "4  2019-03-04 07:57:00.000  2019-03-04 08:13:00.000                    0.0   \n",
      "\n",
      "  UtfUppehållstidAvgång PlanGångtid UtfGångtid FörseningGångtid AvgFörsening  \\\n",
      "0                   1.0           4        3.0             -1.0         -1.0   \n",
      "1                   1.0           4        3.0             -1.0         -1.0   \n",
      "2                   1.0           4        3.0             -1.0         -1.0   \n",
      "3                  16.0           2        3.0              1.0          0.0   \n",
      "4                   0.0           3        3.0              0.0         16.0   \n",
      "\n",
      "  AnkFörsening FörseningUppehållAvgång  \n",
      "0         -2.0                     0.0  \n",
      "1         -2.0                     0.0  \n",
      "2         -2.0                     0.0  \n",
      "3          1.0                     4.0  \n",
      "4         16.0                     0.0  \n",
      "\n",
      "[5 rows x 31 columns]\n"
     ]
    }
   ],
   "source": [
    "# Import the pandas library\n",
    "import pandas as pd\n",
    "\n",
    "file_name = \"month_data.csv\"\n",
    "# Define the file path\n",
    "file_path = r\"data\" + \"/\" + file_name\n",
    "\n",
    "# Load the CSV file into a DataFrame\n",
    "df = pd.read_csv(file_path, sep=';', encoding='utf-8')\n",
    "\n",
    "# Display the first few rows of the DataFrame\n",
    "print(df.head())\n",
    "\n"
   ]
  },
  {
   "cell_type": "code",
   "execution_count": 28,
   "id": "ccfb709d-ff42-4287-b897-bd4623282e74",
   "metadata": {},
   "outputs": [
    {
     "name": "stdout",
     "output_type": "stream",
     "text": [
      "                    Avgångsplats             Ankomstplats  \\\n",
      "0        Helsingborg godsbangård            Helsingborg c   \n",
      "269322              Östra Grevie         Västra Ingelstad   \n",
      "297625                  Dösjebro                  Häljarp   \n",
      "308331                     Åkarp             Åkarps norra   \n",
      "526989                   Lockarp               Svågertorp   \n",
      "692095          Skytts Vemmerlöv             Östra Grevie   \n",
      "755565                    Hyllie                Triangeln   \n",
      "871008              Åkarps norra                   Hjärup   \n",
      "876053                    Hjärup                 Flackarp   \n",
      "1034246               Trelleborg         Skytts Vemmerlöv   \n",
      "1088084                 Flackarp                   Lund c   \n",
      "1158178                 Rydebäck  Helsingborg godsbangård   \n",
      "1411308                 Glumslöv                 Rydebäck   \n",
      "1569902                   Lund c                 Gunnesbo   \n",
      "1792997                 Kävlinge                 Dösjebro   \n",
      "1855075                   Burlöv                    Åkarp   \n",
      "2070092                  Malmö c        Malmö Godsbangård   \n",
      "2169445                  Häljarp         Landskrona Östra   \n",
      "2241079                Triangeln                  Malmö c   \n",
      "2251897                    Arlöv                   Burlöv   \n",
      "2256155               Svågertorp                   Hyllie   \n",
      "2276466         Landskrona Östra                 Glumslöv   \n",
      "2493355                 Gunnesbo                 Kävlinge   \n",
      "2502784        Malmö Godsbangård                    Arlöv   \n",
      "2546114         Västra Ingelstad                  Lockarp   \n",
      "\n",
      "                      PlanAvgTid               PlanAnkTid   Datum_PAU  \\\n",
      "0        2019-03-23 10:34:00.000  2019-03-23 10:38:00.000  2019-03-23   \n",
      "269322   2019-03-23 09:15:00.000  2019-03-23 09:18:00.000  2019-03-23   \n",
      "297625   2019-03-23 10:09:00.000  2019-03-23 10:14:00.000  2019-03-23   \n",
      "308331   2019-03-23 09:48:00.000  2019-03-23 09:48:00.000  2019-03-23   \n",
      "526989   2019-03-23 09:23:00.000  2019-03-23 09:25:00.000  2019-03-23   \n",
      "692095   2019-03-23 09:10:00.000  2019-03-23 09:14:00.000  2019-03-23   \n",
      "755565   2019-03-23 09:32:00.000  2019-03-23 09:34:00.000  2019-03-23   \n",
      "871008   2019-03-23 09:48:00.000  2019-03-23 09:49:00.000  2019-03-23   \n",
      "876053   2019-03-23 09:49:00.000  2019-03-23 09:51:00.000  2019-03-23   \n",
      "1034246  2019-03-23 09:05:00.000  2019-03-23 09:10:00.000  2019-03-23   \n",
      "1088084  2019-03-23 09:51:00.000  2019-03-23 09:53:00.000  2019-03-23   \n",
      "1158178  2019-03-23 10:28:00.000  2019-03-23 10:33:00.000  2019-03-23   \n",
      "1411308  2019-03-23 10:25:00.000  2019-03-23 10:27:00.000  2019-03-23   \n",
      "1569902  2019-03-23 09:55:00.000  2019-03-23 09:58:00.000  2019-03-23   \n",
      "1792997  2019-03-23 10:05:00.000  2019-03-23 10:08:00.000  2019-03-23   \n",
      "1855075  2019-03-23 09:46:00.000  2019-03-23 09:47:00.000  2019-03-23   \n",
      "2070092  2019-03-23 09:41:00.000  2019-03-23 09:43:00.000  2019-03-23   \n",
      "2169445  2019-03-23 10:15:00.000  2019-03-23 10:19:00.000  2019-03-23   \n",
      "2241079  2019-03-23 09:35:00.000  2019-03-23 09:39:00.000  2019-03-23   \n",
      "2251897  2019-03-23 09:44:00.000  2019-03-23 09:45:00.000  2019-03-23   \n",
      "2256155  2019-03-23 09:26:00.000  2019-03-23 09:30:00.000  2019-03-23   \n",
      "2276466  2019-03-23 10:20:00.000  2019-03-23 10:24:00.000  2019-03-23   \n",
      "2493355  2019-03-23 09:59:00.000  2019-03-23 10:04:00.000  2019-03-23   \n",
      "2502784  2019-03-23 09:43:00.000  2019-03-23 09:44:00.000  2019-03-23   \n",
      "2546114  2019-03-23 09:19:00.000  2019-03-23 09:23:00.000  2019-03-23   \n",
      "\n",
      "        UppehållstypAvgång  \n",
      "0                 Uppehåll  \n",
      "269322            Uppehåll  \n",
      "297625            Uppehåll  \n",
      "308331            Uppehåll  \n",
      "526989             Passage  \n",
      "692095             Passage  \n",
      "755565            Uppehåll  \n",
      "871008             Passage  \n",
      "876053             Passage  \n",
      "1034246             Första  \n",
      "1088084            Passage  \n",
      "1158178           Uppehåll  \n",
      "1411308           Uppehåll  \n",
      "1569902           Uppehåll  \n",
      "1792997           Uppehåll  \n",
      "1855075           Uppehåll  \n",
      "2070092           Uppehåll  \n",
      "2169445           Uppehåll  \n",
      "2241079           Uppehåll  \n",
      "2251897            Passage  \n",
      "2256155           Uppehåll  \n",
      "2276466           Uppehåll  \n",
      "2493355           Uppehåll  \n",
      "2502784            Passage  \n",
      "2546114           Uppehåll  \n"
     ]
    }
   ],
   "source": [
    "#get all rows with tåguppdrag 1710.0\n",
    "df_filter = df[(df['Tåguppdrag'] == 1710.0)& (df['Datum_PAU'] == \"2019-03-23\")]\n",
    "#get only avgångsplats and ankomstplats\n",
    "#get the unique values of Datum_PAU\n",
    "\n",
    "df_filter = df_filter[['Avgångsplats', 'Ankomstplats', 'PlanAvgTid', 'PlanAnkTid', 'Datum_PAU', 'UppehållstypAvgång']]\n",
    "print(df_filter)\n",
    "##sort by planavgångstid\n",
    "#df_filter = df_filter.sort_values(by='PlanAvgTid')"
   ]
  },
  {
   "cell_type": "code",
   "execution_count": 29,
   "id": "a88f91be",
   "metadata": {},
   "outputs": [
    {
     "name": "stdout",
     "output_type": "stream",
     "text": [
      "{'test': 1, 'hej': 2}\n",
      "1\n",
      "2\n",
      "dict_keys(['test', 'hej'])\n",
      "dict_values([1, 2])\n",
      "{'test': 1, 'hej': 2, 'new': 3}\n",
      "True\n",
      "test\n",
      "1\n",
      "hej\n",
      "2\n",
      "new\n",
      "3\n"
     ]
    }
   ],
   "source": [
    "test = {\"test\": 1, \"hej\": 2}\n",
    "print(test)\n",
    "print(test[\"test\"])\n",
    "print(test[\"hej\"])\n",
    "print(test.keys())\n",
    "print(test.values())\n",
    "\n",
    "#add a value to the dictionary\n",
    "test[\"new\"] = 3\n",
    "print(test)\n",
    "\n",
    "#check if key exists\n",
    "print(\"test\" in test)\n",
    "\n",
    "for item in test:\n",
    "    print(item)\n",
    "    #print the value of the key\n",
    "    print(test[item])"
   ]
  },
  {
   "cell_type": "code",
   "execution_count": 30,
   "id": "d9e2c9b4",
   "metadata": {},
   "outputs": [
    {
     "name": "stdout",
     "output_type": "stream",
     "text": [
      "['Svågertorp' 'Västra Ingelstad' 'Fosieby' 'Oxie']\n",
      "['Helsingborg c' 'Malmö Godsbangård' 'Stöcke' ... '-' 'Malung' 'Verkebäck']\n"
     ]
    }
   ],
   "source": [
    "#rows = df(df['Ankomstplats'] == 'Uppsala C')\n",
    "test = df[df['Ankomstplats'] == 'Lockarp']\n",
    "test = test['Avgångsplats'].unique()\n",
    "\n",
    "print(test)\n",
    "\n",
    "#last = test[test['UppehållstypAnkomst'] == 'Sista']\n",
    "#print(last.shape)\n",
    "#print(last)\n",
    "\n",
    "\n",
    "#print all stations \n",
    "stations = df['Ankomstplats'].unique()\n",
    "print(stations)\n"
   ]
  },
  {
   "cell_type": "code",
   "execution_count": 31,
   "id": "038fa540",
   "metadata": {},
   "outputs": [
    {
     "name": "stdout",
     "output_type": "stream",
     "text": [
      "(515, 2)\n",
      "                       UtfAvgTid                UtfAnkTid\n",
      "16654    2019-03-24 22:53:00.000  2019-03-24 22:56:00.000\n",
      "28587    2019-03-30 12:48:00.000  2019-03-30 12:54:00.000\n",
      "29757    2019-03-23 12:45:00.000  2019-03-23 12:50:00.000\n",
      "33552    2019-03-09 08:34:00.000  2019-03-09 08:38:00.000\n",
      "33553    2019-03-16 08:34:00.000  2019-03-16 08:38:00.000\n",
      "...                          ...                      ...\n",
      "2612098  2019-03-02 02:34:00.000  2019-03-02 02:38:00.000\n",
      "2624305  2019-03-21 18:02:00.000  2019-03-21 18:06:00.000\n",
      "2625107  2019-03-14 09:08:00.000  2019-03-14 09:15:00.000\n",
      "2640876  2019-03-15 07:09:00.000  2019-03-15 07:13:00.000\n",
      "2648156  2019-03-21 08:33:00.000  2019-03-21 08:38:00.000\n",
      "\n",
      "[515 rows x 2 columns]\n",
      "16654      3.0\n",
      "28587      6.0\n",
      "29757      5.0\n",
      "33552      4.0\n",
      "33553      4.0\n",
      "          ... \n",
      "2612098    4.0\n",
      "2624305    4.0\n",
      "2625107    7.0\n",
      "2640876    4.0\n",
      "2648156    5.0\n",
      "Length: 515, dtype: float64\n",
      "4.45\n"
     ]
    }
   ],
   "source": [
    "# Select the relevant columns and drop duplicates\n",
    "unique_edges = df[['Avgångsplats', 'Ankomstplats']].drop_duplicates()\n",
    "\n",
    "# Convert to a list of lists (if that's what you want)\n",
    "edges = unique_edges.values.tolist()\n",
    "\n",
    "#print(edges)\n",
    "#get all rows in df where ['Avgångsplats', 'Ankomstplats'] is ['Malmö c', 'Malmö Godsbangård']\n",
    "test = df[(df['Avgångsplats'] == 'Nyköping c') & (df['Ankomstplats'] == 'Enstaberga')]\n",
    "#get only the colums UtfAnkTid UtfAvgTid\n",
    "test = test[['UtfAvgTid', 'UtfAnkTid']]\n",
    "print(test.shape)\n",
    "print(test)\n",
    "\n",
    "time_diff = pd.to_datetime(test['UtfAnkTid']) - pd.to_datetime(test['UtfAvgTid'])\n",
    "# Convert the time difference to minutes\n",
    "time_diff = time_diff.dt.total_seconds() / 60\n",
    "print(time_diff)\n",
    "# Calculate the mean time difference\n",
    "mean_time_diff = time_diff.mean()\n",
    "print(mean_time_diff.round(2))\n"
   ]
  },
  {
   "cell_type": "code",
   "execution_count": 32,
   "id": "d83d1d73",
   "metadata": {},
   "outputs": [
    {
     "name": "stdout",
     "output_type": "stream",
     "text": [
      "Number of rows with Tåguppdrag = 1710.0:  5\n",
      "           Avgångsplats    Ankomstplats               PlanAvgTid  \\\n",
      "969966          Malmö c       Östervärn  2019-03-09 15:20:00.000   \n",
      "606570        Östervärn       Rosengård  2019-03-09 15:22:00.000   \n",
      "509582        Rosengård  Malmö Persborg  2019-03-09 15:24:00.000   \n",
      "2148486  Malmö Persborg         Fosieby  2019-03-09 15:24:00.000   \n",
      "434096          Fosieby         Lockarp  2019-03-09 15:25:00.000   \n",
      "\n",
      "                      PlanAnkTid                UtfAnkTid  \\\n",
      "969966   2019-03-09 15:22:00.000  2019-03-09 15:31:00.000   \n",
      "606570   2019-03-09 15:24:00.000  2019-03-09 15:33:00.000   \n",
      "509582   2019-03-09 15:24:00.000  2019-03-09 15:33:00.000   \n",
      "2148486  2019-03-09 15:25:00.000  2019-03-09 15:34:00.000   \n",
      "434096   2019-03-09 15:27:00.000  2019-03-09 15:36:00.000   \n",
      "\n",
      "                       UtfAvgTid  DelSträckanummer UppehållstypAnkomst  \n",
      "969966   2019-03-09 15:28:00.000                 1             Passage  \n",
      "606570   2019-03-09 15:31:00.000                 2             Passage  \n",
      "509582                       NaN                 3             Passage  \n",
      "2148486                      NaN                 4             Passage  \n",
      "434096   2019-03-09 15:34:00.000                 5               Sista  \n"
     ]
    }
   ],
   "source": [
    "# find all rows in df with Tåguppdrag = 1710.0\n",
    "df_1710 = df[df['Datum_PAU'] == \"2019-03-09\"] \n",
    "df_filter = df_1710[df_1710['Tåguppdrag'] == 59771.0]\n",
    "#print(df_filter.columns)\n",
    "#print(df_filter.head(10))\n",
    "  \n",
    "rows_count = df_filter.shape[0]\n",
    "print(\"Number of rows with Tåguppdrag = 1710.0: \", rows_count)\n",
    "#sort the data ascending from DelSträckanummer\n",
    "df_filter = df_filter.sort_values(by=['DelSträckanummer'])\n",
    "#print(df_filter.head(25))\n",
    "\n",
    "#only columns Ankomstplats and Avgångsplats  'PlanAvgTid', 'PlanAnkTid', 'UtfAnkTid',       'UtfAvgTid'\n",
    "df_filter = df_filter[['Avgångsplats', 'Ankomstplats', 'PlanAvgTid', 'PlanAnkTid', 'UtfAnkTid', 'UtfAvgTid', 'DelSträckanummer', 'UppehållstypAnkomst']]\n",
    "print(df_filter.head(25))\n"
   ]
  },
  {
   "cell_type": "code",
   "execution_count": 33,
   "id": "80863b69-3b71-44d6-86b4-bd23e17c105c",
   "metadata": {},
   "outputs": [],
   "source": [
    "df.columns = df.columns.str.strip()"
   ]
  },
  {
   "cell_type": "code",
   "execution_count": 34,
   "id": "fa425f1f-4d86-423d-bd49-a3f702c8be6a",
   "metadata": {},
   "outputs": [],
   "source": [
    "df.fillna(method='ffill', inplace=True)\n",
    "df.drop_duplicates(inplace=True)\n",
    "df['Datum_PAU'] = pd.to_datetime(df['Datum_PAU'])"
   ]
  },
  {
   "cell_type": "code",
   "execution_count": 35,
   "id": "030af5e0-661c-4c26-83e7-41e3d12a9321",
   "metadata": {},
   "outputs": [
    {
     "name": "stdout",
     "output_type": "stream",
     "text": [
      "Tågslag\n",
      "GT     3.970023\n",
      "RST    1.692135\n",
      "SPF   -6.728155\n",
      "TJT   -2.496385\n",
      "VXR    1.389776\n",
      "Name: AvgFörsening, dtype: float64\n"
     ]
    }
   ],
   "source": [
    "avg_delay = df.groupby('Tågslag')['AvgFörsening'].mean()\n",
    "print(avg_delay)"
   ]
  },
  {
   "cell_type": "code",
   "execution_count": 36,
   "id": "4fb7a4a2-c8d8-409a-94e4-faa417a42e02",
   "metadata": {},
   "outputs": [
    {
     "name": "stdout",
     "output_type": "stream",
     "text": [
      "RST    2087165\n",
      "GT      453078\n",
      "TJT     118120\n",
      "VXR        939\n",
      "SPF        103\n",
      "Name: Tågslag, dtype: int64\n"
     ]
    }
   ],
   "source": [
    "train_type_count = df['Tågslag'].value_counts()\n",
    "print(train_type_count)"
   ]
  },
  {
   "cell_type": "code",
   "execution_count": 37,
   "id": "e0cdffa6-cd17-4b31-b091-79b8c2f77392",
   "metadata": {},
   "outputs": [
    {
     "data": {
      "image/png": "[encoded data removed]",
      "text/plain": [
       "<Figure size 1000x600 with 1 Axes>"
      ]
     },
     "metadata": {},
     "output_type": "display_data"
    }
   ],
   "source": [
    "train_type_count.plot(kind='bar', figsize=(10, 6))\n",
    "plt.title('Count of Train Types')\n",
    "plt.xlabel('Train Type')\n",
    "plt.ylabel('Count')\n",
    "plt.show()"
   ]
  },
  {
   "cell_type": "code",
   "execution_count": 38,
   "id": "52822bdd-5295-44e8-b54e-8077efb5079e",
   "metadata": {},
   "outputs": [
    {
     "data": {
      "image/png": "[encoded data removed]",
      "text/plain": [
       "<Figure size 1000x600 with 1 Axes>"
      ]
     },
     "metadata": {},
     "output_type": "display_data"
    }
   ],
   "source": [
    "df['AvgFörsening'].hist(bins=20, figsize=(10, 6))\n",
    "plt.title('Histogram of Average Delays')\n",
    "plt.xlabel('Average Delay')\n",
    "plt.ylabel('Frequency')\n",
    "plt.show()"
   ]
  },
  {
   "cell_type": "code",
   "execution_count": 39,
   "id": "2c28abff-42ef-4f43-819c-acecb0e72a43",
   "metadata": {},
   "outputs": [
    {
     "ename": "FileNotFoundError",
     "evalue": "[Errno 2] No such file or directory: 'C:\\\\D\\\\achini\\\\Project Group 1\\\\disturbances.xlsx'",
     "output_type": "error",
     "traceback": [
      "\u001b[0;31m---------------------------------------------------------------------------\u001b[0m",
      "\u001b[0;31mFileNotFoundError\u001b[0m                         Traceback (most recent call last)",
      "Cell \u001b[0;32mIn [39], line 2\u001b[0m\n\u001b[1;32m      1\u001b[0m excel_file_path \u001b[38;5;241m=\u001b[39m \u001b[38;5;124mr\u001b[39m\u001b[38;5;124m\"\u001b[39m\u001b[38;5;124mC:\u001b[39m\u001b[38;5;124m\\\u001b[39m\u001b[38;5;124mD\u001b[39m\u001b[38;5;124m\\\u001b[39m\u001b[38;5;124machini\u001b[39m\u001b[38;5;124m\\\u001b[39m\u001b[38;5;124mProject Group 1\u001b[39m\u001b[38;5;124m\\\u001b[39m\u001b[38;5;124mdisturbances.xlsx\u001b[39m\u001b[38;5;124m\"\u001b[39m\n\u001b[0;32m----> 2\u001b[0m disturbances_df \u001b[38;5;241m=\u001b[39m \u001b[43mpd\u001b[49m\u001b[38;5;241;43m.\u001b[39;49m\u001b[43mread_excel\u001b[49m\u001b[43m(\u001b[49m\u001b[43mexcel_file_path\u001b[49m\u001b[43m)\u001b[49m\n",
      "File \u001b[0;32m/usr/local/lib/python3.10/site-packages/pandas/util/_decorators.py:211\u001b[0m, in \u001b[0;36mdeprecate_kwarg.<locals>._deprecate_kwarg.<locals>.wrapper\u001b[0;34m(*args, **kwargs)\u001b[0m\n\u001b[1;32m    209\u001b[0m     \u001b[38;5;28;01melse\u001b[39;00m:\n\u001b[1;32m    210\u001b[0m         kwargs[new_arg_name] \u001b[38;5;241m=\u001b[39m new_arg_value\n\u001b[0;32m--> 211\u001b[0m \u001b[38;5;28;01mreturn\u001b[39;00m \u001b[43mfunc\u001b[49m\u001b[43m(\u001b[49m\u001b[38;5;241;43m*\u001b[39;49m\u001b[43margs\u001b[49m\u001b[43m,\u001b[49m\u001b[43m \u001b[49m\u001b[38;5;241;43m*\u001b[39;49m\u001b[38;5;241;43m*\u001b[39;49m\u001b[43mkwargs\u001b[49m\u001b[43m)\u001b[49m\n",
      "File \u001b[0;32m/usr/local/lib/python3.10/site-packages/pandas/util/_decorators.py:331\u001b[0m, in \u001b[0;36mdeprecate_nonkeyword_arguments.<locals>.decorate.<locals>.wrapper\u001b[0;34m(*args, **kwargs)\u001b[0m\n\u001b[1;32m    325\u001b[0m \u001b[38;5;28;01mif\u001b[39;00m \u001b[38;5;28mlen\u001b[39m(args) \u001b[38;5;241m>\u001b[39m num_allow_args:\n\u001b[1;32m    326\u001b[0m     warnings\u001b[38;5;241m.\u001b[39mwarn(\n\u001b[1;32m    327\u001b[0m         msg\u001b[38;5;241m.\u001b[39mformat(arguments\u001b[38;5;241m=\u001b[39m_format_argument_list(allow_args)),\n\u001b[1;32m    328\u001b[0m         \u001b[38;5;167;01mFutureWarning\u001b[39;00m,\n\u001b[1;32m    329\u001b[0m         stacklevel\u001b[38;5;241m=\u001b[39mfind_stack_level(),\n\u001b[1;32m    330\u001b[0m     )\n\u001b[0;32m--> 331\u001b[0m \u001b[38;5;28;01mreturn\u001b[39;00m \u001b[43mfunc\u001b[49m\u001b[43m(\u001b[49m\u001b[38;5;241;43m*\u001b[39;49m\u001b[43margs\u001b[49m\u001b[43m,\u001b[49m\u001b[43m \u001b[49m\u001b[38;5;241;43m*\u001b[39;49m\u001b[38;5;241;43m*\u001b[39;49m\u001b[43mkwargs\u001b[49m\u001b[43m)\u001b[49m\n",
      "File \u001b[0;32m/usr/local/lib/python3.10/site-packages/pandas/io/excel/_base.py:482\u001b[0m, in \u001b[0;36mread_excel\u001b[0;34m(io, sheet_name, header, names, index_col, usecols, squeeze, dtype, engine, converters, true_values, false_values, skiprows, nrows, na_values, keep_default_na, na_filter, verbose, parse_dates, date_parser, thousands, decimal, comment, skipfooter, convert_float, mangle_dupe_cols, storage_options)\u001b[0m\n\u001b[1;32m    480\u001b[0m \u001b[38;5;28;01mif\u001b[39;00m \u001b[38;5;129;01mnot\u001b[39;00m \u001b[38;5;28misinstance\u001b[39m(io, ExcelFile):\n\u001b[1;32m    481\u001b[0m     should_close \u001b[38;5;241m=\u001b[39m \u001b[38;5;28;01mTrue\u001b[39;00m\n\u001b[0;32m--> 482\u001b[0m     io \u001b[38;5;241m=\u001b[39m \u001b[43mExcelFile\u001b[49m\u001b[43m(\u001b[49m\u001b[43mio\u001b[49m\u001b[43m,\u001b[49m\u001b[43m \u001b[49m\u001b[43mstorage_options\u001b[49m\u001b[38;5;241;43m=\u001b[39;49m\u001b[43mstorage_options\u001b[49m\u001b[43m,\u001b[49m\u001b[43m \u001b[49m\u001b[43mengine\u001b[49m\u001b[38;5;241;43m=\u001b[39;49m\u001b[43mengine\u001b[49m\u001b[43m)\u001b[49m\n\u001b[1;32m    483\u001b[0m \u001b[38;5;28;01melif\u001b[39;00m engine \u001b[38;5;129;01mand\u001b[39;00m engine \u001b[38;5;241m!=\u001b[39m io\u001b[38;5;241m.\u001b[39mengine:\n\u001b[1;32m    484\u001b[0m     \u001b[38;5;28;01mraise\u001b[39;00m \u001b[38;5;167;01mValueError\u001b[39;00m(\n\u001b[1;32m    485\u001b[0m         \u001b[38;5;124m\"\u001b[39m\u001b[38;5;124mEngine should not be specified when passing \u001b[39m\u001b[38;5;124m\"\u001b[39m\n\u001b[1;32m    486\u001b[0m         \u001b[38;5;124m\"\u001b[39m\u001b[38;5;124man ExcelFile - ExcelFile already has the engine set\u001b[39m\u001b[38;5;124m\"\u001b[39m\n\u001b[1;32m    487\u001b[0m     )\n",
      "File \u001b[0;32m/usr/local/lib/python3.10/site-packages/pandas/io/excel/_base.py:1652\u001b[0m, in \u001b[0;36mExcelFile.__init__\u001b[0;34m(self, path_or_buffer, engine, storage_options)\u001b[0m\n\u001b[1;32m   1650\u001b[0m     ext \u001b[38;5;241m=\u001b[39m \u001b[38;5;124m\"\u001b[39m\u001b[38;5;124mxls\u001b[39m\u001b[38;5;124m\"\u001b[39m\n\u001b[1;32m   1651\u001b[0m \u001b[38;5;28;01melse\u001b[39;00m:\n\u001b[0;32m-> 1652\u001b[0m     ext \u001b[38;5;241m=\u001b[39m \u001b[43minspect_excel_format\u001b[49m\u001b[43m(\u001b[49m\n\u001b[1;32m   1653\u001b[0m \u001b[43m        \u001b[49m\u001b[43mcontent_or_path\u001b[49m\u001b[38;5;241;43m=\u001b[39;49m\u001b[43mpath_or_buffer\u001b[49m\u001b[43m,\u001b[49m\u001b[43m \u001b[49m\u001b[43mstorage_options\u001b[49m\u001b[38;5;241;43m=\u001b[39;49m\u001b[43mstorage_options\u001b[49m\n\u001b[1;32m   1654\u001b[0m \u001b[43m    \u001b[49m\u001b[43m)\u001b[49m\n\u001b[1;32m   1655\u001b[0m     \u001b[38;5;28;01mif\u001b[39;00m ext \u001b[38;5;129;01mis\u001b[39;00m \u001b[38;5;28;01mNone\u001b[39;00m:\n\u001b[1;32m   1656\u001b[0m         \u001b[38;5;28;01mraise\u001b[39;00m \u001b[38;5;167;01mValueError\u001b[39;00m(\n\u001b[1;32m   1657\u001b[0m             \u001b[38;5;124m\"\u001b[39m\u001b[38;5;124mExcel file format cannot be determined, you must specify \u001b[39m\u001b[38;5;124m\"\u001b[39m\n\u001b[1;32m   1658\u001b[0m             \u001b[38;5;124m\"\u001b[39m\u001b[38;5;124man engine manually.\u001b[39m\u001b[38;5;124m\"\u001b[39m\n\u001b[1;32m   1659\u001b[0m         )\n",
      "File \u001b[0;32m/usr/local/lib/python3.10/site-packages/pandas/io/excel/_base.py:1525\u001b[0m, in \u001b[0;36minspect_excel_format\u001b[0;34m(content_or_path, storage_options)\u001b[0m\n\u001b[1;32m   1522\u001b[0m \u001b[38;5;28;01mif\u001b[39;00m \u001b[38;5;28misinstance\u001b[39m(content_or_path, \u001b[38;5;28mbytes\u001b[39m):\n\u001b[1;32m   1523\u001b[0m     content_or_path \u001b[38;5;241m=\u001b[39m BytesIO(content_or_path)\n\u001b[0;32m-> 1525\u001b[0m \u001b[38;5;28;01mwith\u001b[39;00m \u001b[43mget_handle\u001b[49m\u001b[43m(\u001b[49m\n\u001b[1;32m   1526\u001b[0m \u001b[43m    \u001b[49m\u001b[43mcontent_or_path\u001b[49m\u001b[43m,\u001b[49m\u001b[43m \u001b[49m\u001b[38;5;124;43m\"\u001b[39;49m\u001b[38;5;124;43mrb\u001b[39;49m\u001b[38;5;124;43m\"\u001b[39;49m\u001b[43m,\u001b[49m\u001b[43m \u001b[49m\u001b[43mstorage_options\u001b[49m\u001b[38;5;241;43m=\u001b[39;49m\u001b[43mstorage_options\u001b[49m\u001b[43m,\u001b[49m\u001b[43m \u001b[49m\u001b[43mis_text\u001b[49m\u001b[38;5;241;43m=\u001b[39;49m\u001b[38;5;28;43;01mFalse\u001b[39;49;00m\n\u001b[1;32m   1527\u001b[0m \u001b[43m\u001b[49m\u001b[43m)\u001b[49m \u001b[38;5;28;01mas\u001b[39;00m handle:\n\u001b[1;32m   1528\u001b[0m     stream \u001b[38;5;241m=\u001b[39m handle\u001b[38;5;241m.\u001b[39mhandle\n\u001b[1;32m   1529\u001b[0m     stream\u001b[38;5;241m.\u001b[39mseek(\u001b[38;5;241m0\u001b[39m)\n",
      "File \u001b[0;32m/usr/local/lib/python3.10/site-packages/pandas/io/common.py:865\u001b[0m, in \u001b[0;36mget_handle\u001b[0;34m(path_or_buf, mode, encoding, compression, memory_map, is_text, errors, storage_options)\u001b[0m\n\u001b[1;32m    856\u001b[0m         handle \u001b[38;5;241m=\u001b[39m \u001b[38;5;28mopen\u001b[39m(\n\u001b[1;32m    857\u001b[0m             handle,\n\u001b[1;32m    858\u001b[0m             ioargs\u001b[38;5;241m.\u001b[39mmode,\n\u001b[0;32m   (...)\u001b[0m\n\u001b[1;32m    861\u001b[0m             newline\u001b[38;5;241m=\u001b[39m\u001b[38;5;124m\"\u001b[39m\u001b[38;5;124m\"\u001b[39m,\n\u001b[1;32m    862\u001b[0m         )\n\u001b[1;32m    863\u001b[0m     \u001b[38;5;28;01melse\u001b[39;00m:\n\u001b[1;32m    864\u001b[0m         \u001b[38;5;66;03m# Binary mode\u001b[39;00m\n\u001b[0;32m--> 865\u001b[0m         handle \u001b[38;5;241m=\u001b[39m \u001b[38;5;28;43mopen\u001b[39;49m\u001b[43m(\u001b[49m\u001b[43mhandle\u001b[49m\u001b[43m,\u001b[49m\u001b[43m \u001b[49m\u001b[43mioargs\u001b[49m\u001b[38;5;241;43m.\u001b[39;49m\u001b[43mmode\u001b[49m\u001b[43m)\u001b[49m\n\u001b[1;32m    866\u001b[0m     handles\u001b[38;5;241m.\u001b[39mappend(handle)\n\u001b[1;32m    868\u001b[0m \u001b[38;5;66;03m# Convert BytesIO or file objects passed with an encoding\u001b[39;00m\n",
      "\u001b[0;31mFileNotFoundError\u001b[0m: [Errno 2] No such file or directory: 'C:\\\\D\\\\achini\\\\Project Group 1\\\\disturbances.xlsx'"
     ]
    }
   ],
   "source": [
    "disturbances_df = pd.read_excel(excel_file_path)"
   ]
  },
  {
   "cell_type": "code",
   "execution_count": 18,
   "id": "7b683377-e3d1-426b-8b38-21fe12d55e88",
   "metadata": {},
   "outputs": [
    {
     "name": "stdout",
     "output_type": "stream",
     "text": [
      "     UtfDatum Tågslag Tågsort  Tåguppdrag        Tåglänk     Plats HändelseId  \\\n",
      "0  2019-01-01      GT    GODS       16297  2019010116297   Älmhult   H2768756   \n",
      "1  2019-01-01      GT    GODS       41430  2019010141430    Ramsjö   H2768840   \n",
      "2  2019-01-01      GT    GODS       41430  2019010141430      Ånge   H2768840   \n",
      "3  2019-01-01      GT    GODS       41745  2019010141745    Birsta   H2768700   \n",
      "4  2019-01-01      GT    GODS       41745  2019010141745  Nedansjö   H2768700   \n",
      "\n",
      "          Nivå1               Nivå2  Registrerad merförsening  \n",
      "0  Följdorsaker  Stört av annat tåg                        99  \n",
      "1  Följdorsaker  Stört av annat tåg                         3  \n",
      "2  Följdorsaker  Stört av annat tåg                        18  \n",
      "3  Följdorsaker  Stört av annat tåg                         8  \n",
      "4  Följdorsaker  Stört av annat tåg                        21  \n"
     ]
    }
   ],
   "source": [
    "print(disturbances_df.head())"
   ]
  },
  {
   "cell_type": "code",
   "execution_count": 19,
   "id": "cccb4ba2-0c8d-403e-9c3c-04e61caf4d82",
   "metadata": {},
   "outputs": [
    {
     "name": "stdout",
     "output_type": "stream",
     "text": [
      "(58643, 10)\n"
     ]
    }
   ],
   "source": [
    "print(disturbances_df.shape)\n"
   ]
  },
  {
   "cell_type": "code",
   "execution_count": 20,
   "id": "53a30171-22bf-4ebf-b3ee-58e127439631",
   "metadata": {},
   "outputs": [
    {
     "name": "stdout",
     "output_type": "stream",
     "text": [
      "UtfDatum                    object\n",
      "Tågslag                     object\n",
      "Tågsort                     object\n",
      "Tåguppdrag                   int64\n",
      "Tåglänk                      int64\n",
      "Plats                       object\n",
      "HändelseId                  object\n",
      "Nivå1                       object\n",
      "Nivå2                       object\n",
      "Registrerad merförsening     int64\n",
      "dtype: object\n"
     ]
    }
   ],
   "source": [
    "print(disturbances_df.dtypes)\n"
   ]
  },
  {
   "cell_type": "code",
   "execution_count": 21,
   "id": "fbb95a65-7ced-443d-94eb-cb7daa000bca",
   "metadata": {},
   "outputs": [
    {
     "name": "stdout",
     "output_type": "stream",
     "text": [
      "         Tåguppdrag       Tåglänk  Registrerad merförsening\n",
      "count  58643.000000  5.864300e+04              58643.000000\n",
      "mean   21532.869021  8.203357e+11                 16.233856\n",
      "std    28338.645031  8.963710e+11                 42.564952\n",
      "min        1.000000  2.019013e+08                  3.000000\n",
      "25%     1826.000000  2.019021e+11                  4.000000\n",
      "50%     7509.000000  2.019083e+11                  6.000000\n",
      "75%    41741.000000  2.019032e+12                 12.000000\n",
      "max    99995.000000  2.019123e+12               1439.000000\n"
     ]
    }
   ],
   "source": [
    "print(disturbances_df.describe())\n"
   ]
  },
  {
   "cell_type": "code",
   "execution_count": 22,
   "id": "a9f60ef6-fade-42ee-80ca-f6c0e95abecc",
   "metadata": {},
   "outputs": [
    {
     "name": "stdout",
     "output_type": "stream",
     "text": [
      "UtfDatum                    0\n",
      "Tågslag                     0\n",
      "Tågsort                     0\n",
      "Tåguppdrag                  0\n",
      "Tåglänk                     0\n",
      "Plats                       0\n",
      "HändelseId                  0\n",
      "Nivå1                       0\n",
      "Nivå2                       0\n",
      "Registrerad merförsening    0\n",
      "dtype: int64\n"
     ]
    }
   ],
   "source": [
    "print(disturbances_df.isnull().sum())"
   ]
  },
  {
   "cell_type": "code",
   "execution_count": 24,
   "id": "f28f1813-6f09-4a63-8b73-8b74676b72cc",
   "metadata": {},
   "outputs": [
    {
     "name": "stdout",
     "output_type": "stream",
     "text": [
      "Index(['UtfDatum', 'Tågslag', 'Tågsort', 'Tåguppdrag', 'Tåglänk', 'Plats',\n",
      "       'HändelseId', 'Nivå1', 'Nivå2', 'Registrerad merförsening'],\n",
      "      dtype='object')\n"
     ]
    }
   ],
   "source": [
    "print(disturbances_df.columns)\n"
   ]
  },
  {
   "cell_type": "code",
   "execution_count": 25,
   "id": "ebeb79d5-cc73-49e3-a78d-cf014909106c",
   "metadata": {},
   "outputs": [
    {
     "name": "stdout",
     "output_type": "stream",
     "text": [
      "count    58643.000000\n",
      "mean        16.233856\n",
      "std         42.564952\n",
      "min          3.000000\n",
      "25%          4.000000\n",
      "50%          6.000000\n",
      "75%         12.000000\n",
      "max       1439.000000\n",
      "Name: Registrerad merförsening, dtype: float64\n"
     ]
    }
   ],
   "source": [
    "print(disturbances_df['Registrerad merförsening'].describe())\n"
   ]
  },
  {
   "cell_type": "code",
   "execution_count": 26,
   "id": "90ed9eb5-5180-4b10-9dc9-c957af768757",
   "metadata": {},
   "outputs": [
    {
     "name": "stdout",
     "output_type": "stream",
     "text": [
      "Tågslag\n",
      "RST    31652\n",
      "GT     19940\n",
      "TJT     7048\n",
      "SPF        3\n",
      "Name: count, dtype: int64\n"
     ]
    }
   ],
   "source": [
    "train_counts = disturbances_df['Tågslag'].value_counts()\n",
    "print(train_counts)\n"
   ]
  },
  {
   "cell_type": "code",
   "execution_count": 27,
   "id": "854969d1-367e-4fc6-9732-c1fdeffca818",
   "metadata": {},
   "outputs": [
    {
     "data": {
      "image/png": "[encoded data removed]",
      "text/plain": [
       "<Figure size 1000x600 with 1 Axes>"
      ]
     },
     "metadata": {},
     "output_type": "display_data"
    }
   ],
   "source": [
    "import matplotlib.pyplot as plt\n",
    "\n",
    "train_counts.plot(kind='bar', figsize=(10, 6), color='skyblue', edgecolor='black')\n",
    "plt.title('Count of Disturbances by Train Type')\n",
    "plt.xlabel('Train Type')\n",
    "plt.ylabel('Count')\n",
    "plt.xticks(rotation=45)\n",
    "plt.show()\n"
   ]
  },
  {
   "cell_type": "code",
   "execution_count": 25,
   "id": "ce3d2ff9-0b02-479c-9f15-5224afd96371",
   "metadata": {},
   "outputs": [
    {
     "name": "stdout",
     "output_type": "stream",
     "text": [
      "0.0\n"
     ]
    }
   ],
   "source": [
    "import numpy as np\n",
    "\n",
    "\n",
    "month_data = \"month_data.csv\"\n",
    "file_path = r\"data\" + \"/\" + month_data\n",
    "df = get_dataframe(file_path)\n"
   ]
  }
 ],
 "metadata": {
  "kernelspec": {
   "display_name": "Python 3",
   "language": "python",
   "name": "python3"
  },
  "language_info": {
   "codemirror_mode": {
    "name": "ipython",
    "version": 3
   },
   "file_extension": ".py",
   "mimetype": "text/x-python",
   "name": "python",
   "nbconvert_exporter": "python",
   "pygments_lexer": "ipython3",
   "version": "3.10.6"
  }
 },
 "nbformat": 4,
 "nbformat_minor": 5
}
